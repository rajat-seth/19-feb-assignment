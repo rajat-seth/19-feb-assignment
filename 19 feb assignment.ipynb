{
 "cells": [
  {
   "cell_type": "markdown",
   "id": "afd260df-b34b-4153-bb95-132981210490",
   "metadata": {},
   "source": [
    "Q1) Flask Framework is a python based application used to create API.\n",
    "Adavatages of using Flask are it is lightweight and easy to used."
   ]
  },
  {
   "cell_type": "markdown",
   "id": "a9e83a21-5a71-4254-a89f-33fc37577d0d",
   "metadata": {},
   "source": [
    "Q2)"
   ]
  },
  {
   "cell_type": "markdown",
   "id": "c1c9bb07-3945-4040-86a6-5344cabbf199",
   "metadata": {},
   "source": [
    "from flask import Flask\n",
    "\n",
    "app = Flask(__name__)\n",
    "\n",
    "@app.route(\"/\")\n",
    "def hello_world():\n",
    "    return \"Hello, World!\"\n"
   ]
  },
  {
   "cell_type": "markdown",
   "id": "3e5e7a5f-d4a3-4445-ab64-f555b46f24ba",
   "metadata": {},
   "source": [
    "Q3)"
   ]
  },
  {
   "cell_type": "markdown",
   "id": "037e64ea-2fe2-49e9-8c50-2b565da6859d",
   "metadata": {},
   "source": [
    "App routing is a method to map the url with associated function that is intended to perform some task.\n",
    "It is used to map the specific URL with the associated function that is intended to perform some task."
   ]
  },
  {
   "cell_type": "markdown",
   "id": "693b08b4-be29-43ef-b7ce-ce08d5ef1c3f",
   "metadata": {},
   "source": [
    "Q4)"
   ]
  },
  {
   "cell_type": "markdown",
   "id": "e6134d55-ca6c-4d8b-b6aa-c004bb3d5cd1",
   "metadata": {},
   "source": [
    "from Flask import Flask\n",
    "app=Flask(name)\n",
    "\n",
    "@app.route(\"/welcome\")\n",
    "def welcome():\n",
    "    return \"WElcome to ABC corporation\"\n",
    "@app.route(\"/\")\n",
    "def /():\n",
    "    return {\"company name\":\"ABC coorporation\",\"Location\":\"India\",\"contact detail\":999-999-9999}"
   ]
  },
  {
   "cell_type": "markdown",
   "id": "7f5473e7-26e0-4087-bce9-995a4bf80b17",
   "metadata": {},
   "source": [
    "Q5)"
   ]
  },
  {
   "cell_type": "markdown",
   "id": "96897f8b-9a2a-4325-b4df-41971a440708",
   "metadata": {},
   "source": [
    "function used in flask for URL building is\n",
    "url_for() \n",
    "from flask import Flask, redirect, url_for\n",
    "app = Flask(__name__)\n",
    "\n",
    "@app.route('/admin')\n",
    "def hello_admin():\n",
    "   return 'Hello Admin'\n",
    "\n"
   ]
  },
  {
   "cell_type": "code",
   "execution_count": null,
   "id": "05830ee3-57b6-4aad-99da-3948db06ed4a",
   "metadata": {},
   "outputs": [],
   "source": []
  }
 ],
 "metadata": {
  "kernelspec": {
   "display_name": "Python 3 (ipykernel)",
   "language": "python",
   "name": "python3"
  },
  "language_info": {
   "codemirror_mode": {
    "name": "ipython",
    "version": 3
   },
   "file_extension": ".py",
   "mimetype": "text/x-python",
   "name": "python",
   "nbconvert_exporter": "python",
   "pygments_lexer": "ipython3",
   "version": "3.10.8"
  }
 },
 "nbformat": 4,
 "nbformat_minor": 5
}
